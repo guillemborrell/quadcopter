{
 "cells": [
  {
   "cell_type": "code",
   "execution_count": 71,
   "metadata": {
    "collapsed": true
   },
   "outputs": [],
   "source": [
    "import tensorflow as tf\n",
    "import numpy as np"
   ]
  },
  {
   "cell_type": "code",
   "execution_count": null,
   "metadata": {
    "collapsed": true
   },
   "outputs": [],
   "source": [
    "def floats_to_bits(x):\n",
    "    return np.unpackbits(np.frombuffer(x.tobytes(), dtype=np.uint8))\n",
    "\n",
    "def bits_to_floats(x):\n",
    "    return np.frombuffer(np.packbits(x).tobytes(), dtype=np.float)"
   ]
  },
  {
   "cell_type": "markdown",
   "metadata": {},
   "source": [
    "We expect these results"
   ]
  },
  {
   "cell_type": "code",
   "execution_count": 106,
   "metadata": {},
   "outputs": [
    {
     "name": "stdout",
     "output_type": "stream",
     "text": [
      "[0 1 0 1 1 1 0 1 1 0 0 0 1 1 1 1 1 1 0 0 0 0 1 0 1 1 1 1 0 1 0 1 0 0 1 0 1\n",
      " 0 0 0 0 1 0 1 1 1 0 0 1 1 0 0 1 1 1 1 0 0 1 1 1 1 1 1 0 1 0 1 1 1 0 1 1 0\n",
      " 0 0 1 1 1 1 1 1 0 0 0 0 1 0 1 1 1 1 0 1 0 1 0 0 1 0 1 0 0 0 0 1 0 1 1 1 0\n",
      " 0 1 1 0 0 1 1 1 1 0 0 1 1 1 1 1 1 0 1 0 1 1 1 0 1 1 0 0 0 1 1 1 1 1 1 0 0\n",
      " 0 0 1 0 1 1 1 1 0 1 0 1 0 0 1 0 1 0 0 0 0 1 0 1 1 1 0 0 1 1 0 0 1 1 1 1 0\n",
      " 0 1 1 1 1 1 1 0 1 0 1 1 1 0 1 1 0 0 0 1 1 1 1 1 1 0 0 0 0 1 0 1 1 1 1 0 1\n",
      " 0 1 0 0 1 0 1 0 0 0 0 1 0 1 1 1 0 0 1 1 0 0 1 1 1 1 0 0 1 1 1 1 1 1]\n"
     ]
    }
   ],
   "source": [
    "m = 0.1\n",
    "g = 9.8\n",
    "fval = m*g/4\n",
    "f = fval*np.ones((4,), dtype=np.float)\n",
    "fbit = floats_to_bits(f)\n",
    "print(fbit)"
   ]
  },
  {
   "cell_type": "code",
   "execution_count": 119,
   "metadata": {},
   "outputs": [],
   "source": [
    "xi = tf.placeholder(tf.float32, [768, None])\n",
    "W1 = tf.Variable(np.random.randn(768, 768), dtype=tf.float32)\n",
    "W2 = tf.Variable(np.random.randn(256, 768), dtype=tf.float32)\n",
    "eta = tf.placeholder(tf.float32, [256, None])\n",
    "\n",
    "x = tf.matmul(W1, xi)\n",
    "y = tf.nn.relu(x)\n",
    "p = tf.matmul(W2, y)\n",
    "z = tf.nn.sigmoid(p)\n",
    "loss = tf.reduce_sum(tf.square(eta - z))"
   ]
  },
  {
   "cell_type": "code",
   "execution_count": 120,
   "metadata": {},
   "outputs": [],
   "source": [
    "init = tf.global_variables_initializer()\n",
    "\n",
    "with tf.Session() as s:\n",
    "    s.run(init)\n",
    "    ll = s.run(loss, {xi: floats_to_bits(np.array([[1,1,1,0,0,0,1,1,1,0,0,0],\n",
    "                                                   [-1,-1,-1,0,0,0,-1,-1,-1,0,0,0]])).reshape(768,2),\n",
    "                      eta: floats_to_bits(np.array([f, f])).reshape(256,2)})"
   ]
  },
  {
   "cell_type": "code",
   "execution_count": 121,
   "metadata": {},
   "outputs": [
    {
     "data": {
      "text/plain": [
       "236.43018"
      ]
     },
     "execution_count": 121,
     "metadata": {},
     "output_type": "execute_result"
    }
   ],
   "source": [
    "ll"
   ]
  },
  {
   "cell_type": "code",
   "execution_count": 144,
   "metadata": {},
   "outputs": [],
   "source": [
    "with tf.Session() as s:\n",
    "    s.run(init)\n",
    "    gg = s.run(tf.gradients(loss, [W1, W2]),\n",
    "               {xi: floats_to_bits(np.array([[1,1,1,0,0,0,1,1,1,0,0,0],\n",
    "                                                   [-1,-1,-1,0,0,0,-1,-1,-1,0,0,0]])).reshape(768,2),\n",
    "                      eta: floats_to_bits(np.array([f, f])).reshape(256,2)})\n",
    "    "
   ]
  },
  {
   "cell_type": "code",
   "execution_count": 147,
   "metadata": {},
   "outputs": [
    {
     "data": {
      "text/plain": [
       "2"
      ]
     },
     "execution_count": 147,
     "metadata": {},
     "output_type": "execute_result"
    }
   ],
   "source": [
    "len(gg)"
   ]
  },
  {
   "cell_type": "code",
   "execution_count": null,
   "metadata": {
    "collapsed": true
   },
   "outputs": [],
   "source": []
  }
 ],
 "metadata": {
  "kernelspec": {
   "display_name": "Python 3",
   "language": "python",
   "name": "python3"
  },
  "language_info": {
   "codemirror_mode": {
    "name": "ipython",
    "version": 3
   },
   "file_extension": ".py",
   "mimetype": "text/x-python",
   "name": "python",
   "nbconvert_exporter": "python",
   "pygments_lexer": "ipython3",
   "version": "3.6.2"
  }
 },
 "nbformat": 4,
 "nbformat_minor": 2
}
