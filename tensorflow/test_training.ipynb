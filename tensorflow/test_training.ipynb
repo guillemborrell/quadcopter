{
 "cells": [
  {
   "cell_type": "code",
   "execution_count": null,
   "metadata": {
    "collapsed": true
   },
   "outputs": [],
   "source": [
    "import tensorflow as tf\n",
    "import numpy as np"
   ]
  },
  {
   "cell_type": "code",
   "execution_count": null,
   "metadata": {
    "collapsed": true
   },
   "outputs": [],
   "source": [
    "def floats_to_bits(x):\n",
    "    return np.unpackbits(np.frombuffer(x.tobytes(), dtype=np.uint8))\n",
    "\n",
    "def bits_to_floats(x):\n",
    "    return np.frombuffer(np.packbits(x).tobytes(), dtype=np.float)"
   ]
  },
  {
   "cell_type": "markdown",
   "metadata": {},
   "source": [
    "We expect these results"
   ]
  },
  {
   "cell_type": "code",
   "execution_count": null,
   "metadata": {},
   "outputs": [],
   "source": [
    "m = 0.1\n",
    "g = 9.8\n",
    "fval = m*g/4\n",
    "f = fval*np.ones((4,), dtype=np.float)"
   ]
  },
  {
   "cell_type": "code",
   "execution_count": null,
   "metadata": {},
   "outputs": [],
   "source": [
    "xi = tf.placeholder(tf.float32, [768, None])\n",
    "W1 = tf.Variable(np.random.randn(768, 768), dtype=tf.float32)\n",
    "W2 = tf.Variable(np.random.randn(256, 768), dtype=tf.float32)\n",
    "eta = tf.placeholder(tf.float32, [256, None])\n",
    "\n",
    "x = tf.matmul(W1, xi)\n",
    "y = tf.nn.relu(x)\n",
    "p = tf.matmul(W2, y)\n",
    "z = tf.nn.sigmoid(p)\n",
    "loss = tf.reduce_sum(tf.square(eta - z))"
   ]
  },
  {
   "cell_type": "code",
   "execution_count": null,
   "metadata": {},
   "outputs": [],
   "source": [
    "init = tf.global_variables_initializer()\n",
    "\n",
    "with tf.Session() as s:\n",
    "    s.run(init)\n",
    "    ll = s.run(loss, {xi: floats_to_bits(np.array([[1,1,1,0,0,0,1,1,1,0,0,0],\n",
    "                                                   [-1,-1,-1,0,0,0,-1,-1,-1,0,0,0]])).reshape(768,2),\n",
    "                      eta: floats_to_bits(np.array([f, f])).reshape(256,2)})"
   ]
  },
  {
   "cell_type": "code",
   "execution_count": null,
   "metadata": {},
   "outputs": [],
   "source": [
    "ll"
   ]
  },
  {
   "cell_type": "code",
   "execution_count": null,
   "metadata": {},
   "outputs": [],
   "source": [
    "with tf.Session() as s:\n",
    "    s.run(init)\n",
    "    gg = s.run(tf.gradients(loss, [W1, W2]),\n",
    "               {xi: floats_to_bits(np.array([[1,1,1,0,0,0,1,1,1,0,0,0],\n",
    "                                             [-1,-1,-1,0,0,0,-1,-1,-1,0,0,0]])).reshape(768,2),\n",
    "                      eta: floats_to_bits(np.array([f, f])).reshape(256,2)})\n",
    "    "
   ]
  },
  {
   "cell_type": "code",
   "execution_count": null,
   "metadata": {},
   "outputs": [],
   "source": [
    "len(gg)"
   ]
  },
  {
   "cell_type": "code",
   "execution_count": null,
   "metadata": {},
   "outputs": [],
   "source": [
    "xi_tr = np.random.randn(12, 1000)"
   ]
  },
  {
   "cell_type": "code",
   "execution_count": null,
   "metadata": {},
   "outputs": [],
   "source": [
    "f_tr = fval*np.ones((4, 1000))"
   ]
  },
  {
   "cell_type": "code",
   "execution_count": null,
   "metadata": {},
   "outputs": [],
   "source": [
    "with tf.Session() as s:\n",
    "    s.run(init)\n",
    "    ll = s.run(loss, {xi: floats_to_bits(xi_tr).reshape(768,1000),\n",
    "                      eta: floats_to_bits(f_tr).reshape(256,1000)})"
   ]
  },
  {
   "cell_type": "code",
   "execution_count": null,
   "metadata": {},
   "outputs": [],
   "source": [
    "optimizer = tf.train.GradientDescentOptimizer(0.00001)\n",
    "train = optimizer.minimize(loss)"
   ]
  },
  {
   "cell_type": "code",
   "execution_count": null,
   "metadata": {},
   "outputs": [],
   "source": [
    "with tf.Session() as s:\n",
    "    s.run(init)\n",
    "    for i in range(10):\n",
    "        print('Round', i+1)\n",
    "        xi_tr = np.random.randn(12, 1000)\n",
    "        f_tr = fval*np.ones((4, 1000))\n",
    "        for j in range(1000):\n",
    "            if j % 100 == 0:\n",
    "                print(j, '/ 1000')\n",
    "                print(s.run(loss, {xi: floats_to_bits(np.array([1,1,1,0,0,0,1,1,1,0,0,0])).reshape(768,1),\n",
    "                                   eta: floats_to_bits(np.array([fval, fval, fval, fval])).reshape(256,1)}))\n",
    "            s.run(train, {xi: floats_to_bits(xi_tr).reshape(768,1000),\n",
    "                          eta: floats_to_bits(f_tr).reshape(256,1000)})\n",
    "            \n",
    "        # Check that the norm is getting lower\n",
    "        zz = s.run(z, {xi: floats_to_bits(np.array([1,1,1,0,0,0,1,1,1,0,0,0])).reshape(768,1)})\n",
    "        print(bits_to_floats(zz.reshape(256).astype(np.uint8)))\n",
    "        \n",
    "    # Check a predicted result\n",
    "    zz = s.run(z, {xi: floats_to_bits(np.array([1,1,1,0,0,0,1,1,1,0,0,0])).reshape(768,1)})"
   ]
  },
  {
   "cell_type": "code",
   "execution_count": null,
   "metadata": {},
   "outputs": [],
   "source": [
    "bits_to_floats(zz.reshape(256).astype(np.uint8))"
   ]
  },
  {
   "cell_type": "code",
   "execution_count": null,
   "metadata": {
    "collapsed": true
   },
   "outputs": [],
   "source": []
  }
 ],
 "metadata": {
  "kernelspec": {
   "display_name": "Python 3",
   "language": "python",
   "name": "python3"
  },
  "language_info": {
   "codemirror_mode": {
    "name": "ipython",
    "version": 3
   },
   "file_extension": ".py",
   "mimetype": "text/x-python",
   "name": "python",
   "nbconvert_exporter": "python",
   "pygments_lexer": "ipython3",
   "version": "3.6.2"
  }
 },
 "nbformat": 4,
 "nbformat_minor": 2
}
