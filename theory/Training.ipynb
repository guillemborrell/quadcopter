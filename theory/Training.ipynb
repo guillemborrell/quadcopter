{
 "cells": [
  {
   "cell_type": "markdown",
   "metadata": {},
   "source": [
    "## Two-level perceptron for reinforcement learning"
   ]
  },
  {
   "cell_type": "code",
   "execution_count": 1,
   "metadata": {
    "collapsed": true
   },
   "outputs": [],
   "source": [
    "import numpy as np"
   ]
  },
  {
   "cell_type": "code",
   "execution_count": 2,
   "metadata": {
    "collapsed": true
   },
   "outputs": [],
   "source": [
    "def sigmoid(x):\n",
    "    return 1/(1+np.exp(-x))"
   ]
  },
  {
   "cell_type": "markdown",
   "metadata": {},
   "source": [
    "### Bit-encoding of input variables $\\xi$\n",
    "\n",
    "The input variables, position, velocity and target position and velocity must be binary-encoded. This is an issue for quantities that are expressed with floating point numbers that carry 64 bits of information. The good thing is that we only have to encode the information. We will be able to train the neural network regardless of whether the internal encoding of the network makes sense to us."
   ]
  },
  {
   "cell_type": "code",
   "execution_count": 52,
   "metadata": {
    "collapsed": true
   },
   "outputs": [],
   "source": [
    "x = np.array(-2.3)"
   ]
  },
  {
   "cell_type": "code",
   "execution_count": 79,
   "metadata": {
    "collapsed": true
   },
   "outputs": [],
   "source": [
    "def floats_to_bits(x):\n",
    "    return np.unpackbits(np.frombuffer(x.tobytes(), dtype=np.uint8))\n",
    "\n",
    "def bits_to_floats(x):\n",
    "    return np.frombuffer(np.packbits(x).tobytes(), dtype=np.float)"
   ]
  },
  {
   "cell_type": "code",
   "execution_count": 80,
   "metadata": {
    "collapsed": true
   },
   "outputs": [],
   "source": [
    "y = floats_to_bits(np.array([3.2, 2.3]))"
   ]
  },
  {
   "cell_type": "code",
   "execution_count": 83,
   "metadata": {},
   "outputs": [
    {
     "name": "stdout",
     "output_type": "stream",
     "text": [
      "[1 0 0 1 1 0 1 0 1 0 0 1 1 0 0 1 1 0 0 1 1 0 0 1 1 0 0 1 1 0 0 1 1 0 0 1 1\n",
      " 0 0 1 1 0 0 1 1 0 0 1 0 0 0 0 1 0 0 1 0 1 0 0 0 0 0 0 0 1 1 0 0 1 1 0 0 1\n",
      " 1 0 0 1 1 0 0 1 1 0 0 1 1 0 0 1 1 0 0 1 1 0 0 1 1 0 0 1 1 0 0 1 1 0 0 1 1\n",
      " 0 0 0 0 0 0 0 1 0 0 1 0 0 0 0 0 0] (128,)\n"
     ]
    }
   ],
   "source": [
    "print(y, y.shape)"
   ]
  },
  {
   "cell_type": "code",
   "execution_count": 82,
   "metadata": {},
   "outputs": [
    {
     "data": {
      "text/plain": [
       "array([ 3.2,  2.3])"
      ]
     },
     "execution_count": 82,
     "metadata": {},
     "output_type": "execute_result"
    }
   ],
   "source": [
    "bits_to_floats(y)"
   ]
  },
  {
   "cell_type": "markdown",
   "metadata": {},
   "source": [
    "### Encoding\n",
    "\n",
    "The following four variables will be encoded in the input vector:\n",
    "\n",
    "* The three coordinates of origin $\\xi_0$\n",
    "* The three components of the currrent velocity vector $\\vec v_0$\n",
    "* The three coordinates of the target location $\\xi_1$\n",
    "* The three components of the target velocity vector at the target location $\\vec v_1$\n",
    "\n",
    "This means 12 floating point numbers, hence 768 bits\n",
    "\n",
    "Assume that we want to go from (0,0,0) with velocity (0,0,0) to (1,0,0) with velocity (0,0,0). The encoded input will be therefore"
   ]
  },
  {
   "cell_type": "code",
   "execution_count": 144,
   "metadata": {
    "collapsed": true
   },
   "outputs": [],
   "source": [
    "xi = floats_to_bits(np.array([0,0,0,0,0,0,1.0,0,0,0,0,0]))"
   ]
  },
  {
   "cell_type": "code",
   "execution_count": 145,
   "metadata": {},
   "outputs": [
    {
     "name": "stdout",
     "output_type": "stream",
     "text": [
      "768\n"
     ]
    }
   ],
   "source": [
    "print(len(xi))"
   ]
  },
  {
   "cell_type": "markdown",
   "metadata": {},
   "source": [
    "At the same time, we expect that the output of the neural networ are four variables, the thrust every motor has to apply in each step "
   ]
  },
  {
   "cell_type": "markdown",
   "metadata": {},
   "source": [
    "## Assembling the neural network\n",
    "\n",
    "The equations for the neural network are the following\n",
    "\n",
    "$$\\begin{align}\n",
    "z & = sigmoid(p) \\\\\n",
    "p & = W_2 \\cdot y \\\\\n",
    "y & = ReLU(x) \\\\\n",
    "x & = W_1 \\cdot \\xi\n",
    "\\end{align}\n",
    "$$\n",
    "\n",
    "It is also important to obtain the partial derivatives for the weights optimization of the loss function $L = (d-z)^2/2$\n",
    "\n",
    "$$\\partial_{W_2} L = (d-z)(1-z)zp$$\n",
    "$$\\partial_{W_1} L = (d-z)(1-z)z W_2 \\partial_x ReLU(x) \\xi $$"
   ]
  },
  {
   "cell_type": "code",
   "execution_count": 146,
   "metadata": {
    "collapsed": true
   },
   "outputs": [],
   "source": [
    "W1 = np.random.randn(768, 768)"
   ]
  },
  {
   "cell_type": "code",
   "execution_count": 147,
   "metadata": {
    "collapsed": true
   },
   "outputs": [],
   "source": [
    "W2 = np.random.randn(256, 768)"
   ]
  },
  {
   "cell_type": "code",
   "execution_count": 148,
   "metadata": {
    "collapsed": true
   },
   "outputs": [],
   "source": [
    "x = W1 @ xi.astype(np.float)"
   ]
  },
  {
   "cell_type": "code",
   "execution_count": 149,
   "metadata": {
    "collapsed": true
   },
   "outputs": [],
   "source": [
    "x[x < 0] = 0 # y is x inplace"
   ]
  },
  {
   "cell_type": "code",
   "execution_count": 150,
   "metadata": {
    "collapsed": true
   },
   "outputs": [],
   "source": [
    "p = W2 @ x"
   ]
  },
  {
   "cell_type": "code",
   "execution_count": 151,
   "metadata": {
    "collapsed": true
   },
   "outputs": [],
   "source": [
    "z = sigmoid(p)"
   ]
  },
  {
   "cell_type": "code",
   "execution_count": 152,
   "metadata": {},
   "outputs": [
    {
     "data": {
      "text/plain": [
       "array([  6.88682841e-022,   5.63758775e-231,   2.74596265e-289,\n",
       "         8.76964545e-193])"
      ]
     },
     "execution_count": 152,
     "metadata": {},
     "output_type": "execute_result"
    }
   ],
   "source": [
    "bits_to_floats(z.astype(np.uint8))"
   ]
  },
  {
   "cell_type": "markdown",
   "metadata": {},
   "source": [
    "The goal is to get four values of thrust that make sense. For that, every time we have an output that can be compared to the loss function, we change the weights with\n",
    "\n",
    "$$W_2 = W_2 - r \\partial_{W_2} L$$\n",
    "\n",
    "$$W_1 = W_1 - r \\partial_{W_1} L$$\n",
    "\n",
    "We can start training our system with a known solution, wich is stationary flight. This gives an equal thrust for each of rour rotors of $F_i = mg/4$. Assuming a mass of "
   ]
  },
  {
   "cell_type": "code",
   "execution_count": null,
   "metadata": {
    "collapsed": true
   },
   "outputs": [],
   "source": []
  }
 ],
 "metadata": {
  "kernelspec": {
   "display_name": "Python 3",
   "language": "python",
   "name": "python3"
  },
  "language_info": {
   "codemirror_mode": {
    "name": "ipython",
    "version": 3
   },
   "file_extension": ".py",
   "mimetype": "text/x-python",
   "name": "python",
   "nbconvert_exporter": "python",
   "pygments_lexer": "ipython3",
   "version": "3.6.2"
  }
 },
 "nbformat": 4,
 "nbformat_minor": 2
}
